{
 "cells": [
  {
   "cell_type": "code",
   "execution_count": 26,
   "id": "f229adcb-2fce-4e9a-a9c7-294ea41eb29c",
   "metadata": {},
   "outputs": [],
   "source": [
    "import pandas as pd\n",
    "import numpy as np\n",
    "import re\n",
    "import matplotlib.pyplot as plt\n",
    "import seaborn as sns\n",
    "\n",
    "from sklearn.model_selection import train_test_split\n",
    "from sklearn.feature_extraction.text import TfidfVectorizer\n",
    "from sklearn.linear_model import LogisticRegression\n",
    "from sklearn.metrics import classification_report, confusion_matrix\n",
    "from sklearn.utils.multiclass import unique_labels"
   ]
  },
  {
   "cell_type": "code",
   "execution_count": 11,
   "id": "b35c8cb9-a77e-44cf-9d90-d80c738f7d7a",
   "metadata": {},
   "outputs": [
    {
     "name": "stdout",
     "output_type": "stream",
     "text": [
      "Dataset shape: (1600000, 6)\n",
      "sentiment\n",
      "0    800000\n",
      "4    800000\n",
      "Name: count, dtype: int64\n"
     ]
    }
   ],
   "source": [
    "# Sentiment140 CSV on Kaggle has no headers, so define them manually\n",
    "cols = ['sentiment', 'id', 'date', 'query', 'user', 'text']\n",
    "df = pd.read_csv(\"C:/Users/punit/OneDrive/Desktop/ACM-30Days/Sentiment140.csv\", encoding='latin-1', names=cols)\n",
    "\n",
    "print(\"Dataset shape:\", df.shape)\n",
    "print(df['sentiment'].value_counts())"
   ]
  },
  {
   "cell_type": "code",
   "execution_count": 13,
   "id": "94fc922c-7c09-4f72-adf3-63a1c6493c8b",
   "metadata": {},
   "outputs": [
    {
     "name": "stdout",
     "output_type": "stream",
     "text": [
      "After cleaning: (1596443, 7)\n"
     ]
    }
   ],
   "source": [
    "def clean_tweet(text):\n",
    "    text = re.sub(r'http\\S+', '', text)                     # Remove URLs\n",
    "    text = re.sub(r'@\\w+', '', text)                        # Remove mentions\n",
    "    text = re.sub(r'#', '', text)                           # Remove hashtag symbol\n",
    "    text = re.sub(r'[^A-Za-z0-9\\s]', '', text)              # Remove special chars & emojis\n",
    "    return text.lower().strip()\n",
    "\n",
    "df['cleaned'] = df['text'].astype(str).apply(clean_tweet)\n",
    "df = df[df['cleaned'] != '']  # drop empty tweets\n",
    "print(\"After cleaning:\", df.shape)"
   ]
  },
  {
   "cell_type": "code",
   "execution_count": 14,
   "id": "ceedbf49-89e3-496c-a3d2-3902a71ae772",
   "metadata": {},
   "outputs": [
    {
     "name": "stdout",
     "output_type": "stream",
     "text": [
      "sentiment_label\n",
      "negative    798346\n",
      "positive    798097\n",
      "Name: count, dtype: int64\n"
     ]
    }
   ],
   "source": [
    "mapping = {0: 'negative', 2: 'neutral', 4: 'positive'}\n",
    "df['sentiment_label'] = df['sentiment'].map(mapping)\n",
    "df['sentiment_enc'] = df['sentiment_label'].map({'negative':0, 'neutral':1, 'positive':2})\n",
    "\n",
    "print(df['sentiment_label'].value_counts())"
   ]
  },
  {
   "cell_type": "code",
   "execution_count": 17,
   "id": "95b2e146-a58c-417e-95d4-513f52c3aea3",
   "metadata": {},
   "outputs": [
    {
     "name": "stdout",
     "output_type": "stream",
     "text": [
      "Train size: 1277154 Test size: 319289\n"
     ]
    }
   ],
   "source": [
    "X = df['cleaned']\n",
    "y = df['sentiment_enc']\n",
    "\n",
    "X_train, X_test, y_train, y_test = train_test_split(\n",
    "    X, y,\n",
    "    test_size=0.2,\n",
    "    random_state=42,\n",
    "    stratify=y\n",
    ")\n",
    "\n",
    "print(\"Train size:\", X_train.shape[0], \"Test size:\", X_test.shape[0])"
   ]
  },
  {
   "cell_type": "code",
   "execution_count": 19,
   "id": "6d227532-b449-4b14-9417-7910c2065571",
   "metadata": {},
   "outputs": [
    {
     "name": "stdout",
     "output_type": "stream",
     "text": [
      "TF-IDF Shape - Train: (1277154, 5000)\n"
     ]
    }
   ],
   "source": [
    "tfidf = TfidfVectorizer(max_features=5000, stop_words='english')\n",
    "X_train_tfidf = tfidf.fit_transform(X_train)\n",
    "X_test_tfidf  = tfidf.transform(X_test)\n",
    "\n",
    "print(\"TF-IDF Shape - Train:\", X_train_tfidf.shape)"
   ]
  },
  {
   "cell_type": "code",
   "execution_count": 28,
   "id": "9f254f07-2a44-4a70-b73a-2aa2ca613a56",
   "metadata": {},
   "outputs": [
    {
     "name": "stdout",
     "output_type": "stream",
     "text": [
      "Classification Report:\n",
      "               precision    recall  f1-score   support\n",
      "\n",
      "         neg       0.78      0.74      0.76    159669\n",
      "         pos       0.75      0.79      0.77    159620\n",
      "\n",
      "    accuracy                           0.77    319289\n",
      "   macro avg       0.77      0.77      0.77    319289\n",
      "weighted avg       0.77      0.77      0.77    319289\n",
      "\n"
     ]
    },
    {
     "data": {
      "image/png": "[encoded data removed]",
      "text/plain": [
       "<Figure size 600x500 with 2 Axes>"
      ]
     },
     "metadata": {},
     "output_type": "display_data"
    }
   ],
   "source": [
    "labels = unique_labels(y_test, y_pred)\n",
    "\n",
    "# Map integers back to class names\n",
    "label_map = {0: 'neg', 1: 'neu', 2: 'pos'}\n",
    "target_names = [label_map[l] for l in labels]\n",
    "\n",
    "# Print report and confusion matrix\n",
    "print(\"Classification Report:\\n\", classification_report(y_test, y_pred, labels=labels, target_names=target_names))\n",
    "\n",
    "cm = confusion_matrix(y_test, y_pred, labels=labels)\n",
    "plt.figure(figsize=(6,5))\n",
    "sns.heatmap(cm, annot=True, fmt='d', cmap='Blues', xticklabels=target_names, yticklabels=target_names)\n",
    "plt.xlabel('Predicted')\n",
    "plt.ylabel('Actual')\n",
    "plt.title('Confusion Matrix')\n",
    "plt.show()\n"
   ]
  },
  {
   "cell_type": "code",
   "execution_count": 30,
   "id": "11fd4f9b-3d7b-48cb-b135-31da06cd3375",
   "metadata": {},
   "outputs": [],
   "source": [
    "model = LogisticRegression(max_iter=1000, class_weight='balanced', random_state=42)\n",
    "model.fit(X_train_tfidf, y_train)\n",
    "y_pred = model.predict(X_test_tfidf)"
   ]
  },
  {
   "cell_type": "markdown",
   "id": "2e046741-f4e5-43c9-8ba1-3f71328c1f69",
   "metadata": {},
   "source": [
    "***Short Write-Up:***\n",
    "\n",
    "**Model Chosen:** Logistic Regression  \n",
    "**Why:** Efficient, interpretable, and works well on TF‑IDF text features with class imbalance.\n",
    "\n",
    "**How TF‑IDF helped:**  \n",
    "It converts tweets into weighted vectors reflecting term importance, which improves classification accuracy.\n",
    "\n",
    "**Challenges & Resolutions:**  \n",
    "- Initial encoding error solved by using `encoding='latin-1'` with proper column names :contentReference[oaicite:2]{index=2}.  \n",
    "- Cleaning emojis, URLs, hashtags took tuning of regex.  \n",
    "- Handled class imbalance by using stratified split and `class_weight='balanced'` in model.\n"
   ]
  }
 ],
 "metadata": {
  "kernelspec": {
   "display_name": "Python 3 (ipykernel)",
   "language": "python",
   "name": "python3"
  },
  "language_info": {
   "codemirror_mode": {
    "name": "ipython",
    "version": 3
   },
   "file_extension": ".py",
   "mimetype": "text/x-python",
   "name": "python",
   "nbconvert_exporter": "python",
   "pygments_lexer": "ipython3",
   "version": "3.12.3"
  }
 },
 "nbformat": 4,
 "nbformat_minor": 5
}
