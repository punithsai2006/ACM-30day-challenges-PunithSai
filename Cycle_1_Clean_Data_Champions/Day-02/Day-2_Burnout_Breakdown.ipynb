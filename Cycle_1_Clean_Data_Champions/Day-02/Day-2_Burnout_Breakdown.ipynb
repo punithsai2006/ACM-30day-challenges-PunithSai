{
 "cells": [
  {
   "cell_type": "code",
   "execution_count": 2,
   "id": "7c1003e4-62f5-46b0-a5c8-01f40cc5bf3a",
   "metadata": {},
   "outputs": [],
   "source": [
    "# Imports and Configuration\n",
    "import pandas as pd\n",
    "import numpy as np\n",
    "\n",
    "from sklearn.preprocessing import StandardScaler, OneHotEncoder\n",
    "from sklearn.compose import ColumnTransformer\n",
    "from sklearn.pipeline import Pipeline\n",
    "from sklearn.linear_model import LinearRegression, Ridge, Lasso\n",
    "from sklearn.metrics import mean_squared_error, r2_score\n",
    "from sklearn.model_selection import train_test_split\n",
    "from sklearn.feature_selection import mutual_info_regression\n",
    "import seaborn as sns\n",
    "import matplotlib.pyplot as plt"
   ]
  },
  {
   "cell_type": "code",
   "execution_count": 4,
   "id": "2ea53032-826f-4b87-9a09-4c759e56304d",
   "metadata": {},
   "outputs": [
    {
     "name": "stdout",
     "output_type": "stream",
     "text": [
      "Shape: (3000, 25)\n",
      "   EmployeeID  Age      Gender    Country            JobRole Department  \\\n",
      "0        1001   50        Male         UK    Sales Associate         HR   \n",
      "1        1002   36        Male    Germany  Software Engineer         IT   \n",
      "2        1003   29  Non-binary      India           IT Admin         IT   \n",
      "3        1004   42        Male  Australia      HR Specialist         IT   \n",
      "4        1005   40        Male     Brazil   Customer Support    Support   \n",
      "\n",
      "   YearsAtCompany  WorkHoursPerWeek RemoteWork  BurnoutLevel  ...  \\\n",
      "0              14                47         No          3.37  ...   \n",
      "1               1                59     Hybrid          7.39  ...   \n",
      "2              13                59     Hybrid          7.10  ...   \n",
      "3              15                31        Yes          4.18  ...   \n",
      "4               6                34        Yes          8.28  ...   \n",
      "\n",
      "   CommuteTime  HasMentalHealthSupport  ManagerSupportScore  HasTherapyAccess  \\\n",
      "0          117                      No                 3.15               Yes   \n",
      "1            8                     Yes                 4.40               Yes   \n",
      "2           75                      No                 3.63                No   \n",
      "3           43                     Yes                 4.50               Yes   \n",
      "4           58                     Yes                 5.51               Yes   \n",
      "\n",
      "   MentalHealthDaysOff  SalaryRange WorkLifeBalanceScore  TeamSize  \\\n",
      "0                    8      40K-60K                 8.82         6   \n",
      "1                    4     80K-100K                 2.80        45   \n",
      "2                    6     80K-100K                 7.28         7   \n",
      "3                    9      60K-80K                 1.31        11   \n",
      "4                    6         <40K                 1.17        18   \n",
      "\n",
      "  CareerGrowthScore  BurnoutRisk  \n",
      "0              9.20            0  \n",
      "1              8.46            1  \n",
      "2              7.96            1  \n",
      "3              8.90            0  \n",
      "4              8.88            1  \n",
      "\n",
      "[5 rows x 25 columns]\n"
     ]
    }
   ],
   "source": [
    "# 2. Load Data\n",
    "df = pd.read_csv(\"C:/Users/punit/OneDrive/Desktop/ACM-30Days/mental_health_workplace_survey.csv\")\n",
    "print(f\"Shape: {df.shape}\")\n",
    "print(df.head())"
   ]
  },
  {
   "cell_type": "code",
   "execution_count": 6,
   "id": "308035f1-6dfd-40f4-bec3-29a4c57f0f25",
   "metadata": {},
   "outputs": [],
   "source": [
    "# 3. Define Target and Drop Missing Values in Target\n",
    "target = \"StressLevel\"\n",
    "df = df.dropna(subset=[target])"
   ]
  },
  {
   "cell_type": "code",
   "execution_count": 8,
   "id": "3da15b66-4636-4ed6-99ce-8602a0acaaf6",
   "metadata": {},
   "outputs": [],
   "source": [
    "# 4. Select and Prepare Features\n",
    "features = [\n",
    "    \"Gender\", \"RemoteWork\", \"SleepHours\", \"WorkHoursPerWeek\",\n",
    "    \"BurnoutLevel\", \"JobSatisfaction\", \"ManagerSupportScore\",\n",
    "    \"CareerGrowthScore\"\n",
    "]\n",
    "data = df[features + [target]].copy()"
   ]
  },
  {
   "cell_type": "code",
   "execution_count": 10,
   "id": "7c680c47-6588-4ef1-8d02-934a32d6b8d9",
   "metadata": {},
   "outputs": [
    {
     "name": "stdout",
     "output_type": "stream",
     "text": [
      "Numerical: ['SleepHours', 'WorkHoursPerWeek', 'BurnoutLevel', 'JobSatisfaction', 'ManagerSupportScore', 'CareerGrowthScore']\n",
      "Categorical: ['Gender', 'RemoteWork']\n"
     ]
    }
   ],
   "source": [
    "# 5. Separate Numerical and Categorical Columns\n",
    "numerical_cols = data.select_dtypes(include=[\"int64\", \"float64\"]).columns.drop(target).tolist()\n",
    "categorical_cols = data.select_dtypes(include=[\"object\"]).columns.tolist()\n",
    "print(\"Numerical:\", numerical_cols)\n",
    "print(\"Categorical:\", categorical_cols)"
   ]
  },
  {
   "cell_type": "code",
   "execution_count": 12,
   "id": "a730fdf5-e90f-4d4f-ba10-35bc77299806",
   "metadata": {},
   "outputs": [],
   "source": [
    "# 6. Create Interaction Features (Feature Engineering)\n",
    "# Interaction 1: Stress × Burnout\n",
    "data[\"StressBurnoutInteraction\"] = data[\"StressLevel\"] * data[\"BurnoutLevel\"]\n",
    "# Interaction 2: Sleep per Work hour\n",
    "data[\"SleepPerWorkHour\"] = data[\"SleepHours\"] / (data[\"WorkHoursPerWeek\"] + 1e-5)\n",
    "# Update numerical columns accordingly\n",
    "numerical_cols += [\"StressBurnoutInteraction\", \"SleepPerWorkHour\"]"
   ]
  },
  {
   "cell_type": "code",
   "execution_count": 16,
   "id": "502b2e9d-f9dd-4427-a9d1-9167f6fa7da4",
   "metadata": {},
   "outputs": [],
   "source": [
    "# 7. Split Data for Training and Testing\n",
    "X = data[numerical_cols + categorical_cols]\n",
    "y = data[target]\n",
    "\n",
    "X_train, X_test, y_train, y_test = train_test_split(X, y,\n",
    "                                                    test_size=0.2,\n",
    "                                                    random_state=42)"
   ]
  },
  {
   "cell_type": "code",
   "execution_count": 18,
   "id": "241abd53-2d1e-4904-a6b7-abd5907c376a",
   "metadata": {},
   "outputs": [
    {
     "data": {
      "image/png": "[encoded data removed]",
      "text/plain": [
       "<Figure size 800x400 with 1 Axes>"
      ]
     },
     "metadata": {},
     "output_type": "display_data"
    },
    {
     "name": "stdout",
     "output_type": "stream",
     "text": [
      "Selected features: ['StressBurnoutInteraction', 'SleepPerWorkHour', 'CareerGrowthScore', 'SleepHours', 'WorkHoursPerWeek', 'BurnoutLevel', 'JobSatisfaction', 'ManagerSupportScore', 'Gender', 'RemoteWork']\n"
     ]
    }
   ],
   "source": [
    "# 8. Feature Selection Using Mutual Information\n",
    "mi_scores = mutual_info_regression(X_train[numerical_cols], y_train)\n",
    "mi_series = pd.Series(mi_scores, index=numerical_cols)\n",
    "plt.figure(figsize=(8,4))\n",
    "mi_series.sort_values(ascending=False).plot.bar()\n",
    "plt.title(\"Mutual Information Scores for Numerical Features\")\n",
    "plt.show()\n",
    "top_numerical = mi_series.sort_values(ascending=False).head(8).index.tolist()\n",
    "\n",
    "# Combine with all categorical features\n",
    "selected_features = top_numerical + categorical_cols\n",
    "X_train = X_train[selected_features]\n",
    "X_test  = X_test[selected_features]\n",
    "print(\"Selected features:\", selected_features)"
   ]
  },
  {
   "cell_type": "code",
   "execution_count": 20,
   "id": "db1786ce-7816-4d62-91e6-72b0b17b8b52",
   "metadata": {},
   "outputs": [],
   "source": [
    "# 9. Preprocessing Pipeline: One-Hot & Scaling\n",
    "preprocessor = ColumnTransformer(transformers=[\n",
    "    (\"num\", StandardScaler(), top_numerical),\n",
    "    (\"cat\", OneHotEncoder(drop=\"first\", sparse_output=False), categorical_cols)\n",
    "])"
   ]
  },
  {
   "cell_type": "code",
   "execution_count": 22,
   "id": "319af558-28f6-491e-b621-568db2e0ec5e",
   "metadata": {},
   "outputs": [
    {
     "name": "stdout",
     "output_type": "stream",
     "text": [
      "Regression Results (sorted by R² Score):\n",
      "                      MSE  R² Score\n",
      "LassoRegression   1.17508   0.82256\n",
      "RidgeRegression   1.17554   0.82249\n",
      "LinearRegression  1.17618   0.82239\n"
     ]
    }
   ],
   "source": [
    "# 10. Model Training & Evaluation\n",
    "models = {\n",
    "    \"LinearRegression\": LinearRegression(),\n",
    "    \"RidgeRegression\": Ridge(alpha=1.0),\n",
    "    \"LassoRegression\": Lasso(alpha=0.1)\n",
    "}\n",
    "\n",
    "results = {}\n",
    "\n",
    "for name, model in models.items():\n",
    "    pipeline = Pipeline([\n",
    "        (\"preprocessing\", preprocessor),\n",
    "        (\"regressor\", model)\n",
    "    ])\n",
    "    pipeline.fit(X_train, y_train)\n",
    "    preds = pipeline.predict(X_test)\n",
    "    mse = mean_squared_error(y_test, preds)\n",
    "    r2 = r2_score(y_test, preds)\n",
    "    results[name] = {\"MSE\": mse, \"R² Score\": r2}\n",
    "\n",
    "results_df = pd.DataFrame(results).T\n",
    "print(\"Regression Results (sorted by R² Score):\")\n",
    "print(results_df.sort_values(by=\"R² Score\", ascending=False).round(5))"
   ]
  },
  {
   "cell_type": "markdown",
   "id": "d3d3b24d-c3ee-467e-bbe0-11ef05047e47",
   "metadata": {},
   "source": [
    "**Summary**\n",
    "\n",
    "-  All models used: Feature engineering (two interactions), OHE/normalization, and mutual information for selection.\n",
    "-  Evaluation metrics: MSE and R² printed above.\n",
    "\n",
    "**Which model is best and why?**\n",
    "\n",
    "- The model with the highest **R² score** (as shown above) performed best.\n",
    "- Usually, Ridge or Lasso slightly outperform basic Linear Regression when features are correlated or numerous, due to regularization reducing overfitting and improving generalization.\n",
    "- Try rerunning with different alpha values for Ridge/Lasso for potential improvements!\n"
   ]
  }
 ],
 "metadata": {
  "kernelspec": {
   "display_name": "Python 3 (ipykernel)",
   "language": "python",
   "name": "python3"
  },
  "language_info": {
   "codemirror_mode": {
    "name": "ipython",
    "version": 3
   },
   "file_extension": ".py",
   "mimetype": "text/x-python",
   "name": "python",
   "nbconvert_exporter": "python",
   "pygments_lexer": "ipython3",
   "version": "3.12.3"
  }
 },
 "nbformat": 4,
 "nbformat_minor": 5
}
