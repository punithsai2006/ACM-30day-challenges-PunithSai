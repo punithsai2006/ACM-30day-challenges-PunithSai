{
 "cells": [
  {
   "cell_type": "code",
   "execution_count": 78,
   "id": "05a0377a-12bc-4de4-ba0f-2b1a2b75878d",
   "metadata": {},
   "outputs": [],
   "source": [
    "# 1.Import Libraries\n",
    "import pandas as pd\n",
    "import numpy as np\n",
    "import matplotlib.pyplot as plt\n",
    "import seaborn as sns\n",
    "\n",
    "from sklearn.model_selection import train_test_split\n",
    "from sklearn.preprocessing import StandardScaler\n",
    "from sklearn.tree import DecisionTreeClassifier\n",
    "from sklearn.ensemble import RandomForestClassifier\n",
    "from sklearn.neighbors import KNeighborsClassifier\n",
    "from sklearn.feature_selection import mutual_info_classif\n",
    "from sklearn.metrics import accuracy_score"
   ]
  },
  {
   "cell_type": "code",
   "execution_count": 80,
   "id": "42930e28-c910-4522-841e-6a5ef0009582",
   "metadata": {},
   "outputs": [
    {
     "name": "stdout",
     "output_type": "stream",
     "text": [
      "Dataset loaded. Shape: (3000, 25)\n"
     ]
    },
    {
     "data": {
      "text/html": [
       "<div>\n",
       "<style scoped>\n",
       "    .dataframe tbody tr th:only-of-type {\n",
       "        vertical-align: middle;\n",
       "    }\n",
       "\n",
       "    .dataframe tbody tr th {\n",
       "        vertical-align: top;\n",
       "    }\n",
       "\n",
       "    .dataframe thead th {\n",
       "        text-align: right;\n",
       "    }\n",
       "</style>\n",
       "<table border=\"1\" class=\"dataframe\">\n",
       "  <thead>\n",
       "    <tr style=\"text-align: right;\">\n",
       "      <th></th>\n",
       "      <th>EmployeeID</th>\n",
       "      <th>Age</th>\n",
       "      <th>Gender</th>\n",
       "      <th>Country</th>\n",
       "      <th>JobRole</th>\n",
       "      <th>Department</th>\n",
       "      <th>YearsAtCompany</th>\n",
       "      <th>WorkHoursPerWeek</th>\n",
       "      <th>RemoteWork</th>\n",
       "      <th>BurnoutLevel</th>\n",
       "      <th>...</th>\n",
       "      <th>CommuteTime</th>\n",
       "      <th>HasMentalHealthSupport</th>\n",
       "      <th>ManagerSupportScore</th>\n",
       "      <th>HasTherapyAccess</th>\n",
       "      <th>MentalHealthDaysOff</th>\n",
       "      <th>SalaryRange</th>\n",
       "      <th>WorkLifeBalanceScore</th>\n",
       "      <th>TeamSize</th>\n",
       "      <th>CareerGrowthScore</th>\n",
       "      <th>BurnoutRisk</th>\n",
       "    </tr>\n",
       "  </thead>\n",
       "  <tbody>\n",
       "    <tr>\n",
       "      <th>0</th>\n",
       "      <td>1001</td>\n",
       "      <td>50</td>\n",
       "      <td>Male</td>\n",
       "      <td>UK</td>\n",
       "      <td>Sales Associate</td>\n",
       "      <td>HR</td>\n",
       "      <td>14</td>\n",
       "      <td>47</td>\n",
       "      <td>No</td>\n",
       "      <td>3.37</td>\n",
       "      <td>...</td>\n",
       "      <td>117</td>\n",
       "      <td>No</td>\n",
       "      <td>3.15</td>\n",
       "      <td>Yes</td>\n",
       "      <td>8</td>\n",
       "      <td>40K-60K</td>\n",
       "      <td>8.82</td>\n",
       "      <td>6</td>\n",
       "      <td>9.20</td>\n",
       "      <td>0</td>\n",
       "    </tr>\n",
       "    <tr>\n",
       "      <th>1</th>\n",
       "      <td>1002</td>\n",
       "      <td>36</td>\n",
       "      <td>Male</td>\n",
       "      <td>Germany</td>\n",
       "      <td>Software Engineer</td>\n",
       "      <td>IT</td>\n",
       "      <td>1</td>\n",
       "      <td>59</td>\n",
       "      <td>Hybrid</td>\n",
       "      <td>7.39</td>\n",
       "      <td>...</td>\n",
       "      <td>8</td>\n",
       "      <td>Yes</td>\n",
       "      <td>4.40</td>\n",
       "      <td>Yes</td>\n",
       "      <td>4</td>\n",
       "      <td>80K-100K</td>\n",
       "      <td>2.80</td>\n",
       "      <td>45</td>\n",
       "      <td>8.46</td>\n",
       "      <td>1</td>\n",
       "    </tr>\n",
       "    <tr>\n",
       "      <th>2</th>\n",
       "      <td>1003</td>\n",
       "      <td>29</td>\n",
       "      <td>Non-binary</td>\n",
       "      <td>India</td>\n",
       "      <td>IT Admin</td>\n",
       "      <td>IT</td>\n",
       "      <td>13</td>\n",
       "      <td>59</td>\n",
       "      <td>Hybrid</td>\n",
       "      <td>7.10</td>\n",
       "      <td>...</td>\n",
       "      <td>75</td>\n",
       "      <td>No</td>\n",
       "      <td>3.63</td>\n",
       "      <td>No</td>\n",
       "      <td>6</td>\n",
       "      <td>80K-100K</td>\n",
       "      <td>7.28</td>\n",
       "      <td>7</td>\n",
       "      <td>7.96</td>\n",
       "      <td>1</td>\n",
       "    </tr>\n",
       "    <tr>\n",
       "      <th>3</th>\n",
       "      <td>1004</td>\n",
       "      <td>42</td>\n",
       "      <td>Male</td>\n",
       "      <td>Australia</td>\n",
       "      <td>HR Specialist</td>\n",
       "      <td>IT</td>\n",
       "      <td>15</td>\n",
       "      <td>31</td>\n",
       "      <td>Yes</td>\n",
       "      <td>4.18</td>\n",
       "      <td>...</td>\n",
       "      <td>43</td>\n",
       "      <td>Yes</td>\n",
       "      <td>4.50</td>\n",
       "      <td>Yes</td>\n",
       "      <td>9</td>\n",
       "      <td>60K-80K</td>\n",
       "      <td>1.31</td>\n",
       "      <td>11</td>\n",
       "      <td>8.90</td>\n",
       "      <td>0</td>\n",
       "    </tr>\n",
       "    <tr>\n",
       "      <th>4</th>\n",
       "      <td>1005</td>\n",
       "      <td>40</td>\n",
       "      <td>Male</td>\n",
       "      <td>Brazil</td>\n",
       "      <td>Customer Support</td>\n",
       "      <td>Support</td>\n",
       "      <td>6</td>\n",
       "      <td>34</td>\n",
       "      <td>Yes</td>\n",
       "      <td>8.28</td>\n",
       "      <td>...</td>\n",
       "      <td>58</td>\n",
       "      <td>Yes</td>\n",
       "      <td>5.51</td>\n",
       "      <td>Yes</td>\n",
       "      <td>6</td>\n",
       "      <td>&lt;40K</td>\n",
       "      <td>1.17</td>\n",
       "      <td>18</td>\n",
       "      <td>8.88</td>\n",
       "      <td>1</td>\n",
       "    </tr>\n",
       "  </tbody>\n",
       "</table>\n",
       "<p>5 rows × 25 columns</p>\n",
       "</div>"
      ],
      "text/plain": [
       "   EmployeeID  Age      Gender    Country            JobRole Department  \\\n",
       "0        1001   50        Male         UK    Sales Associate         HR   \n",
       "1        1002   36        Male    Germany  Software Engineer         IT   \n",
       "2        1003   29  Non-binary      India           IT Admin         IT   \n",
       "3        1004   42        Male  Australia      HR Specialist         IT   \n",
       "4        1005   40        Male     Brazil   Customer Support    Support   \n",
       "\n",
       "   YearsAtCompany  WorkHoursPerWeek RemoteWork  BurnoutLevel  ...  \\\n",
       "0              14                47         No          3.37  ...   \n",
       "1               1                59     Hybrid          7.39  ...   \n",
       "2              13                59     Hybrid          7.10  ...   \n",
       "3              15                31        Yes          4.18  ...   \n",
       "4               6                34        Yes          8.28  ...   \n",
       "\n",
       "   CommuteTime  HasMentalHealthSupport  ManagerSupportScore  HasTherapyAccess  \\\n",
       "0          117                      No                 3.15               Yes   \n",
       "1            8                     Yes                 4.40               Yes   \n",
       "2           75                      No                 3.63                No   \n",
       "3           43                     Yes                 4.50               Yes   \n",
       "4           58                     Yes                 5.51               Yes   \n",
       "\n",
       "   MentalHealthDaysOff  SalaryRange WorkLifeBalanceScore  TeamSize  \\\n",
       "0                    8      40K-60K                 8.82         6   \n",
       "1                    4     80K-100K                 2.80        45   \n",
       "2                    6     80K-100K                 7.28         7   \n",
       "3                    9      60K-80K                 1.31        11   \n",
       "4                    6         <40K                 1.17        18   \n",
       "\n",
       "  CareerGrowthScore  BurnoutRisk  \n",
       "0              9.20            0  \n",
       "1              8.46            1  \n",
       "2              7.96            1  \n",
       "3              8.90            0  \n",
       "4              8.88            1  \n",
       "\n",
       "[5 rows x 25 columns]"
      ]
     },
     "metadata": {},
     "output_type": "display_data"
    },
    {
     "name": "stdout",
     "output_type": "stream",
     "text": [
      "Available columns:\n",
      " ['EmployeeID', 'Age', 'Gender', 'Country', 'JobRole', 'Department', 'YearsAtCompany', 'WorkHoursPerWeek', 'RemoteWork', 'BurnoutLevel', 'JobSatisfaction', 'StressLevel', 'ProductivityScore', 'SleepHours', 'PhysicalActivityHrs', 'CommuteTime', 'HasMentalHealthSupport', 'ManagerSupportScore', 'HasTherapyAccess', 'MentalHealthDaysOff', 'SalaryRange', 'WorkLifeBalanceScore', 'TeamSize', 'CareerGrowthScore', 'BurnoutRisk']\n"
     ]
    }
   ],
   "source": [
    "# 2.Load and Inspect Data\n",
    "df = pd.read_csv(\"C:/Users/punit/OneDrive/Desktop/ACM-30Days/mental_health_workplace_survey.csv\")\n",
    "print(\"Dataset loaded. Shape:\", df.shape)\n",
    "display(df.head())\n",
    "print(\"Available columns:\\n\", df.columns.tolist())"
   ]
  },
  {
   "cell_type": "code",
   "execution_count": 82,
   "id": "96e2aeec-aa5e-47a7-a02d-31b76a8a35d3",
   "metadata": {},
   "outputs": [
    {
     "name": "stdout",
     "output_type": "stream",
     "text": [
      "Total encoded features: 53\n"
     ]
    }
   ],
   "source": [
    "# 3. Prepare Data\n",
    "target_column = 'BurnoutRisk'  # (Change if your target is named differently)\n",
    "X = df.drop(target_column, axis=1)\n",
    "y = df[target_column]\n",
    "\n",
    "# One-hot encode categorical variables\n",
    "X = pd.get_dummies(X)\n",
    "print(\"Total encoded features:\", X.shape[1])"
   ]
  },
  {
   "cell_type": "code",
   "execution_count": 84,
   "id": "5720722c-63f2-4962-9eea-f53bf777c934",
   "metadata": {},
   "outputs": [],
   "source": [
    "# 4.Train/Test Split and Scaling\n",
    "X_train, X_test, y_train, y_test = train_test_split(\n",
    "    X, y, test_size=0.2, random_state=42, stratify=y\n",
    ")\n",
    "\n",
    "scaler = StandardScaler()\n",
    "X_train_scaled = scaler.fit_transform(X_train)\n",
    "X_test_scaled = scaler.transform(X_test)"
   ]
  },
  {
   "cell_type": "code",
   "execution_count": 86,
   "id": "fe1f1a1e-09d6-44e6-93fe-3d56d5930aa2",
   "metadata": {},
   "outputs": [
    {
     "name": "stdout",
     "output_type": "stream",
     "text": [
      "\n",
      " Accuracy with All Features:\n",
      "Decision Tree: 1.0\n",
      "Random Forest: 1.0\n",
      "k-NN: 0.7083333333333334\n"
     ]
    }
   ],
   "source": [
    "# 5.Baseline Model Training (All Features)\n",
    "dt = DecisionTreeClassifier(random_state=42)\n",
    "rf = RandomForestClassifier(random_state=42)\n",
    "knn = KNeighborsClassifier()\n",
    "\n",
    "dt.fit(X_train, y_train)\n",
    "rf.fit(X_train, y_train)\n",
    "knn.fit(X_train_scaled, y_train)\n",
    "\n",
    "dt_preds = dt.predict(X_test)\n",
    "rf_preds = rf.predict(X_test)\n",
    "knn_preds = knn.predict(X_test_scaled)\n",
    "\n",
    "print(\"\\n Accuracy with All Features:\")\n",
    "print(\"Decision Tree:\", accuracy_score(y_test, dt_preds))\n",
    "print(\"Random Forest:\", accuracy_score(y_test, rf_preds))\n",
    "print(\"k-NN:\", accuracy_score(y_test, knn_preds))"
   ]
  },
  {
   "cell_type": "code",
   "execution_count": 88,
   "id": "eb30a8d1-a917-483c-8ec7-bd2bdc55dbf5",
   "metadata": {},
   "outputs": [
    {
     "data": {
      "image/png": "[encoded data removed]",
      "text/plain": [
       "<Figure size 1000x500 with 1 Axes>"
      ]
     },
     "metadata": {},
     "output_type": "display_data"
    },
    {
     "name": "stdout",
     "output_type": "stream",
     "text": [
      "Top 3 features: ['BurnoutLevel', 'MentalHealthDaysOff', 'HasMentalHealthSupport_No']\n"
     ]
    }
   ],
   "source": [
    "# 6.Mutual Information Feature Selection\n",
    "mi_scores = mutual_info_classif(X, y)\n",
    "mi_series = pd.Series(mi_scores, index=X.columns).sort_values(ascending=False)\n",
    "mi_series.head(10).plot(kind=\"barh\", title=\"Top MI Features\", figsize=(10,5))\n",
    "plt.xlabel(\"Mutual Information Score\")\n",
    "plt.tight_layout()\n",
    "plt.show()\n",
    "\n",
    "top3 = mi_series.head(3).index\n",
    "print(\"Top 3 features:\", top3.tolist())"
   ]
  },
  {
   "cell_type": "code",
   "execution_count": 90,
   "id": "3eb1bcac-94bd-4995-9e47-2b4725d604de",
   "metadata": {},
   "outputs": [
    {
     "name": "stdout",
     "output_type": "stream",
     "text": [
      "\n",
      " Accuracy with Top 3 Features:\n",
      "Decision Tree (Top 3): 1.0\n",
      "Random Forest (Top 3): 1.0\n",
      "k-NN (Top 3): 0.9983333333333333\n"
     ]
    }
   ],
   "source": [
    "# 7.Retrain with Top 3 Features\n",
    "X_top3 = X[top3]\n",
    "X_train3, X_test3, y_train3, y_test3 = train_test_split(\n",
    "    X_top3, y, test_size=0.2, stratify=y, random_state=42\n",
    ")\n",
    "\n",
    "X_train3_scaled = scaler.fit_transform(X_train3)\n",
    "X_test3_scaled = scaler.transform(X_test3)\n",
    "\n",
    "dt.fit(X_train3, y_train3)\n",
    "rf.fit(X_train3, y_train3)\n",
    "knn.fit(X_train3_scaled, y_train3)\n",
    "\n",
    "dt_preds_top3 = dt.predict(X_test3)\n",
    "rf_preds_top3 = rf.predict(X_test3)\n",
    "knn_preds_top3 = knn.predict(X_test3_scaled)\n",
    "\n",
    "print(\"\\n Accuracy with Top 3 Features:\")\n",
    "print(\"Decision Tree (Top 3):\", accuracy_score(y_test3, dt_preds_top3))\n",
    "print(\"Random Forest (Top 3):\", accuracy_score(y_test3, rf_preds_top3))\n",
    "print(\"k-NN (Top 3):\", accuracy_score(y_test3, knn_preds_top3))"
   ]
  },
  {
   "cell_type": "code",
   "execution_count": 92,
   "id": "7f37fc26-8d2b-4318-85f1-6b626ceb4f6d",
   "metadata": {},
   "outputs": [
    {
     "name": "stdout",
     "output_type": "stream",
     "text": [
      "\n",
      " Model Comparison:\n",
      "        Model  Accuracy (Full Features)  Accuracy (Top 3 Features)\n",
      "Decision Tree                  1.000000                   1.000000\n",
      "Random Forest                  1.000000                   1.000000\n",
      "         k-NN                  0.708333                   0.998333\n"
     ]
    }
   ],
   "source": [
    "# 8.Side-by-Side Model Comparison Table\n",
    "summary = pd.DataFrame({\n",
    "    'Model': ['Decision Tree', 'Random Forest', 'k-NN'],\n",
    "    'Accuracy (Full Features)': [\n",
    "        accuracy_score(y_test, dt_preds),\n",
    "        accuracy_score(y_test, rf_preds),\n",
    "        accuracy_score(y_test, knn_preds)\n",
    "    ],\n",
    "    'Accuracy (Top 3 Features)': [\n",
    "        accuracy_score(y_test3, dt_preds_top3),\n",
    "        accuracy_score(y_test3, rf_preds_top3),\n",
    "        accuracy_score(y_test3, knn_preds_top3)\n",
    "    ]\n",
    "})\n",
    "\n",
    "print(\"\\n Model Comparison:\")\n",
    "print(summary.to_string(index=False))"
   ]
  },
  {
   "cell_type": "markdown",
   "id": "786fc5fe-8739-440c-ba5e-27e520d667dc",
   "metadata": {},
   "source": [
    "**Summary & Observations:**\n",
    "\n",
    "- All models were trained before and after dropping weak features (using mutual information feature selection as required by the case file).\n",
    "- Trees and forests typically retain high accuracy even with the top few features, due to their effectiveness at capturing key splits.\n",
    "- k-NN usually improves on a compact, relevant feature set because it suffers from the curse of dimensionality.\n",
    "- Random Forest often gives the most robust results and is resistant to overfitting, while k-NN is the most sensitive to noise and irrelevant features (as supported by [recent results](https://pubs.ascee.org/index.php/iota/article/view/823), GeeksforGeeks, etc).\n",
    "- **Top 3 features** are shown visually and in code -- these drive the compact 3-feature model."
   ]
  }
 ],
 "metadata": {
  "kernelspec": {
   "display_name": "Python 3 (ipykernel)",
   "language": "python",
   "name": "python3"
  },
  "language_info": {
   "codemirror_mode": {
    "name": "ipython",
    "version": 3
   },
   "file_extension": ".py",
   "mimetype": "text/x-python",
   "name": "python",
   "nbconvert_exporter": "python",
   "pygments_lexer": "ipython3",
   "version": "3.12.3"
  }
 },
 "nbformat": 4,
 "nbformat_minor": 5
}
